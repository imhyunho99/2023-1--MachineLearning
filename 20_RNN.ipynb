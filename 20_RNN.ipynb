{
  "nbformat": 4,
  "nbformat_minor": 0,
  "metadata": {
    "colab": {
      "provenance": [],
      "gpuType": "T4",
      "authorship_tag": "ABX9TyOLP55xHOBGbh/8mF0ygGUG",
      "include_colab_link": true
    },
    "kernelspec": {
      "name": "python3",
      "display_name": "Python 3"
    },
    "language_info": {
      "name": "python"
    },
    "accelerator": "GPU"
  },
  "cells": [
    {
      "cell_type": "markdown",
      "metadata": {
        "id": "view-in-github",
        "colab_type": "text"
      },
      "source": [
        "<a href=\"https://colab.research.google.com/github/imhyunho99/2023-1--MachineLearning/blob/main/20_RNN.ipynb\" target=\"_parent\"><img src=\"https://colab.research.google.com/assets/colab-badge.svg\" alt=\"Open In Colab\"/></a>"
      ]
    },
    {
      "cell_type": "markdown",
      "source": [
        "Lib and Data download"
      ],
      "metadata": {
        "id": "AAJHU9h_BzPt"
      }
    },
    {
      "cell_type": "code",
      "execution_count": null,
      "metadata": {
        "id": "UKjk6byRpp9O"
      },
      "outputs": [],
      "source": [
        "from tensorflow import keras"
      ]
    },
    {
      "cell_type": "code",
      "source": [
        "from tensorflow.keras.datasets import imdb\n",
        "(train_input, train_target), (test_input, test_target) = imdb.load_data(num_words=500) #num_words = dict size"
      ],
      "metadata": {
        "id": "b6D69plSqXsx",
        "colab": {
          "base_uri": "https://localhost:8080/"
        },
        "outputId": "f092e8c2-2d51-4cc6-8015-a3a8713b6024"
      },
      "execution_count": null,
      "outputs": [
        {
          "output_type": "stream",
          "name": "stdout",
          "text": [
            "Downloading data from https://storage.googleapis.com/tensorflow/tf-keras-datasets/imdb.npz\n",
            "17464789/17464789 [==============================] - 0s 0us/step\n"
          ]
        }
      ]
    },
    {
      "cell_type": "code",
      "source": [
        "print(train_input.shape, test_input.shape)"
      ],
      "metadata": {
        "colab": {
          "base_uri": "https://localhost:8080/"
        },
        "id": "RJMygh8wqYfA",
        "outputId": "9e23206e-3209-4ad9-8bd7-c1075009990f"
      },
      "execution_count": null,
      "outputs": [
        {
          "output_type": "stream",
          "name": "stdout",
          "text": [
            "(25000,) (25000,)\n"
          ]
        }
      ]
    },
    {
      "cell_type": "code",
      "source": [
        "print(len(train_input[0]))"
      ],
      "metadata": {
        "colab": {
          "base_uri": "https://localhost:8080/"
        },
        "id": "DNoE_0DzqalA",
        "outputId": "d607398d-1422-4afa-b3b9-a2b6a8c26ae3"
      },
      "execution_count": null,
      "outputs": [
        {
          "output_type": "stream",
          "name": "stdout",
          "text": [
            "218\n"
          ]
        }
      ]
    },
    {
      "cell_type": "code",
      "source": [
        "print(train_input[0])"
      ],
      "metadata": {
        "colab": {
          "base_uri": "https://localhost:8080/"
        },
        "id": "GD_udL0gqeGA",
        "outputId": "9e2cff79-7ae4-48e7-a85c-0c6cacd381ad"
      },
      "execution_count": null,
      "outputs": [
        {
          "output_type": "stream",
          "name": "stdout",
          "text": [
            "[1, 14, 22, 16, 43, 2, 2, 2, 2, 65, 458, 2, 66, 2, 4, 173, 36, 256, 5, 25, 100, 43, 2, 112, 50, 2, 2, 9, 35, 480, 284, 5, 150, 4, 172, 112, 167, 2, 336, 385, 39, 4, 172, 2, 2, 17, 2, 38, 13, 447, 4, 192, 50, 16, 6, 147, 2, 19, 14, 22, 4, 2, 2, 469, 4, 22, 71, 87, 12, 16, 43, 2, 38, 76, 15, 13, 2, 4, 22, 17, 2, 17, 12, 16, 2, 18, 2, 5, 62, 386, 12, 8, 316, 8, 106, 5, 4, 2, 2, 16, 480, 66, 2, 33, 4, 130, 12, 16, 38, 2, 5, 25, 124, 51, 36, 135, 48, 25, 2, 33, 6, 22, 12, 215, 28, 77, 52, 5, 14, 407, 16, 82, 2, 8, 4, 107, 117, 2, 15, 256, 4, 2, 7, 2, 5, 2, 36, 71, 43, 2, 476, 26, 400, 317, 46, 7, 4, 2, 2, 13, 104, 88, 4, 381, 15, 297, 98, 32, 2, 56, 26, 141, 6, 194, 2, 18, 4, 226, 22, 21, 134, 476, 26, 480, 5, 144, 30, 2, 18, 51, 36, 28, 224, 92, 25, 104, 4, 226, 65, 16, 38, 2, 88, 12, 16, 283, 5, 16, 2, 113, 103, 32, 15, 16, 2, 19, 178, 32]\n"
          ]
        }
      ]
    },
    {
      "cell_type": "code",
      "source": [
        "print(len(train_input[0]))\n",
        "print(len(train_input[1]))\n",
        "print(len(train_input[2]))"
      ],
      "metadata": {
        "colab": {
          "base_uri": "https://localhost:8080/"
        },
        "id": "0g84gFquqcEf",
        "outputId": "b39e7cab-e51a-4f67-dc9e-44f784fa0087"
      },
      "execution_count": null,
      "outputs": [
        {
          "output_type": "stream",
          "name": "stdout",
          "text": [
            "259\n",
            "520\n",
            "290\n"
          ]
        }
      ]
    },
    {
      "cell_type": "code",
      "source": [
        "print(train_target[:20])"
      ],
      "metadata": {
        "colab": {
          "base_uri": "https://localhost:8080/"
        },
        "id": "RVfu459dqfcw",
        "outputId": "2a491b78-8cdf-4656-f14b-2c27022c6202"
      },
      "execution_count": null,
      "outputs": [
        {
          "output_type": "stream",
          "name": "stdout",
          "text": [
            "[1 0 0 1 0 0 1 0 1 0 1 0 0 0 0 0 1 1 0 1]\n"
          ]
        }
      ]
    },
    {
      "cell_type": "code",
      "source": [
        "from sklearn.model_selection import train_test_split\n",
        "train_input, val_input, train_target, val_target =\\\n",
        " train_test_split(train_input, train_target, test_size=0.2, random_state=42)"
      ],
      "metadata": {
        "id": "eQ5zVSh8qhtg"
      },
      "execution_count": null,
      "outputs": []
    },
    {
      "cell_type": "code",
      "source": [
        "import numpy as np\n",
        "lengths = np.array([len(x) for x in train_input])"
      ],
      "metadata": {
        "id": "50OSWdq6qkNg"
      },
      "execution_count": null,
      "outputs": []
    },
    {
      "cell_type": "code",
      "source": [
        "print(np.mean(lengths), np.median(lengths))"
      ],
      "metadata": {
        "colab": {
          "base_uri": "https://localhost:8080/"
        },
        "id": "WIVgUwT4qpvR",
        "outputId": "4eae9861-b3a6-4444-846a-4e5155d6450a"
      },
      "execution_count": null,
      "outputs": [
        {
          "output_type": "stream",
          "name": "stdout",
          "text": [
            "239.00925 178.0\n"
          ]
        }
      ]
    },
    {
      "cell_type": "code",
      "source": [
        "import matplotlib.pyplot as plt\n",
        "plt.hist(lengths)\n",
        "plt.xlabel('length')\n",
        "plt.ylabel('frequency')\n",
        "plt.show()"
      ],
      "metadata": {
        "colab": {
          "base_uri": "https://localhost:8080/",
          "height": 449
        },
        "id": "fAA5ZyUhqrNQ",
        "outputId": "463ec6e6-80d8-4670-ec59-05ff5a730203"
      },
      "execution_count": null,
      "outputs": [
        {
          "output_type": "display_data",
          "data": {
            "text/plain": [
              "<Figure size 640x480 with 1 Axes>"
            ],
            "image/png": "[encoded data removed]"
          },
          "metadata": {}
        }
      ]
    },
    {
      "cell_type": "markdown",
      "source": [
        "Preprocessing"
      ],
      "metadata": {
        "id": "G7TuXe90B517"
      }
    },
    {
      "cell_type": "code",
      "source": [
        "from tensorflow.keras.preprocessing.sequence import pad_sequences\n",
        "train_seq = pad_sequences(train_input, maxlen=50) #padding은 앞단에"
      ],
      "metadata": {
        "id": "hmjuLWqGqs0f"
      },
      "execution_count": null,
      "outputs": []
    },
    {
      "cell_type": "code",
      "source": [
        "print(train_seq.shape)"
      ],
      "metadata": {
        "colab": {
          "base_uri": "https://localhost:8080/"
        },
        "id": "IwAqcZ0ZquUv",
        "outputId": "a28f1b22-fe21-477d-db1e-30352846b72d"
      },
      "execution_count": null,
      "outputs": [
        {
          "output_type": "stream",
          "name": "stdout",
          "text": [
            "(20000, 50)\n"
          ]
        }
      ]
    },
    {
      "cell_type": "code",
      "source": [
        "print(train_seq[0])"
      ],
      "metadata": {
        "colab": {
          "base_uri": "https://localhost:8080/"
        },
        "id": "pmIy7BHMqwXg",
        "outputId": "b68a986c-8566-4ce6-c2fc-67e64621a2ac"
      },
      "execution_count": null,
      "outputs": [
        {
          "output_type": "stream",
          "name": "stdout",
          "text": [
            "[142  73 237   6   2   7   2   2 188   2 103  14  31  10  10 451   7   2\n",
            "   5   2  80  91   2  30   2  34  14  20 151  50  26 131  49   2  84  46\n",
            "  50  37  80  79   6   2  46   7  14  20  10  10 470 158]\n"
          ]
        }
      ]
    },
    {
      "cell_type": "code",
      "source": [
        "print(train_input[0][-10:])"
      ],
      "metadata": {
        "colab": {
          "base_uri": "https://localhost:8080/"
        },
        "id": "JtH9fOnAq2B_",
        "outputId": "5d006804-260f-4785-a592-fcd65e014e11"
      },
      "execution_count": null,
      "outputs": [
        {
          "output_type": "stream",
          "name": "stdout",
          "text": [
            "[6, 2, 46, 7, 14, 20, 10, 10, 470, 158]\n"
          ]
        }
      ]
    },
    {
      "cell_type": "code",
      "source": [
        "print(train_seq[[24]])"
      ],
      "metadata": {
        "colab": {
          "base_uri": "https://localhost:8080/"
        },
        "id": "0LeztoVfq4Lg",
        "outputId": "335ba64d-2fd0-47f6-af1c-52f0458e9184"
      },
      "execution_count": null,
      "outputs": [
        {
          "output_type": "stream",
          "name": "stdout",
          "text": [
            "[[  2   2  15   9  51  13  62   2 276  46  34   2   2   5   2   2  13  62\n",
            "    2  14   8  24  28   2   2  11  12   4   2  92  60   2   4  20  11  91\n",
            "    2  17  12 186   2 303   5   4  20   2  46  11 111   2]]\n"
          ]
        }
      ]
    },
    {
      "cell_type": "code",
      "source": [
        "train_oh = keras.utils.to_categorical(train_seq) #ont hot encoding"
      ],
      "metadata": {
        "id": "on4AxXZ2q9Uv"
      },
      "execution_count": null,
      "outputs": []
    },
    {
      "cell_type": "code",
      "source": [
        "print(train_oh.shape) #500차원 "
      ],
      "metadata": {
        "colab": {
          "base_uri": "https://localhost:8080/"
        },
        "id": "gbHx-XqGq_OP",
        "outputId": "bcda3d78-7215-4d39-cfc0-187b2aee9dfa"
      },
      "execution_count": null,
      "outputs": [
        {
          "output_type": "stream",
          "name": "stdout",
          "text": [
            "(20000, 50, 500)\n"
          ]
        }
      ]
    },
    {
      "cell_type": "code",
      "source": [
        "print(train_oh[0][0][:12])"
      ],
      "metadata": {
        "colab": {
          "base_uri": "https://localhost:8080/"
        },
        "id": "FHfdBRuWrBDg",
        "outputId": "afc9421d-c2db-4afc-c932-153a7c0f4622"
      },
      "execution_count": null,
      "outputs": [
        {
          "output_type": "stream",
          "name": "stdout",
          "text": [
            "[0. 0. 0. 0. 0. 0. 0. 0. 0. 0. 0. 0.]\n"
          ]
        }
      ]
    },
    {
      "cell_type": "code",
      "source": [
        "val_seq = pad_sequences(val_input, maxlen=50)"
      ],
      "metadata": {
        "id": "tBQJDSQGrCF_"
      },
      "execution_count": null,
      "outputs": []
    },
    {
      "cell_type": "code",
      "source": [
        "val_oh = keras.utils.to_categorical(val_seq)"
      ],
      "metadata": {
        "id": "1CF6_jlRrDQf"
      },
      "execution_count": null,
      "outputs": []
    },
    {
      "cell_type": "code",
      "source": [
        "model = keras.Sequential()\n",
        "model.add(keras.layers.SimpleRNN(8, input_shape=(50, 500)))\n",
        "model.add(keras.layers.Dense(1, activation = 'sigmoid'))"
      ],
      "metadata": {
        "id": "ukLKBlmxrEOP"
      },
      "execution_count": null,
      "outputs": []
    },
    {
      "cell_type": "code",
      "source": [
        "model.summary()"
      ],
      "metadata": {
        "colab": {
          "base_uri": "https://localhost:8080/"
        },
        "id": "70s5ufRrrF1A",
        "outputId": "938a03b3-a2dc-467b-e9ff-e10121058c4d"
      },
      "execution_count": null,
      "outputs": [
        {
          "output_type": "stream",
          "name": "stdout",
          "text": [
            "Model: \"sequential\"\n",
            "_________________________________________________________________\n",
            " Layer (type)                Output Shape              Param #   \n",
            "=================================================================\n",
            " simple_rnn (SimpleRNN)      (None, 8)                 4072      \n",
            "                                                                 \n",
            " dense (Dense)               (None, 1)                 9         \n",
            "                                                                 \n",
            "=================================================================\n",
            "Total params: 4,081\n",
            "Trainable params: 4,081\n",
            "Non-trainable params: 0\n",
            "_________________________________________________________________\n"
          ]
        }
      ]
    },
    {
      "cell_type": "code",
      "source": [
        "rmsprop = keras.optimizers.RMSprop(learning_rate=1e-4) #cnn보다 rnn의 rl초기 값이 더 작음, 그래야 학습이 잘됨\n",
        "model.compile(optimizer=rmsprop, loss='binary_crossentropy',\n",
        "              metrics=['accuracy'])\n",
        "checkpoint_cb = keras.callbacks.ModelCheckpoint('best_simplernn-model.h5', save_best_only=True)\n",
        "early_stopping_cb = keras.callbacks.EarlyStopping(patience=3, restore_best_weights=True)\n",
        "history = model.fit(train_oh, train_target, epochs=10, batch_size=256, validation_data=(val_oh, val_target), callbacks=[checkpoint_cb, early_stopping_cb])"
      ],
      "metadata": {
        "colab": {
          "base_uri": "https://localhost:8080/"
        },
        "id": "qwVibE8_rG_P",
        "outputId": "62701e9c-8188-4195-f026-e518355bf0be"
      },
      "execution_count": null,
      "outputs": [
        {
          "output_type": "stream",
          "name": "stdout",
          "text": [
            "Epoch 1/10\n",
            "79/79 [==============================] - 11s 69ms/step - loss: 0.6946 - accuracy: 0.5269 - val_loss: 0.6929 - val_accuracy: 0.5328\n",
            "Epoch 2/10\n",
            "79/79 [==============================] - 5s 66ms/step - loss: 0.6868 - accuracy: 0.5465 - val_loss: 0.6863 - val_accuracy: 0.5528\n",
            "Epoch 3/10\n",
            "79/79 [==============================] - 4s 56ms/step - loss: 0.6793 - accuracy: 0.5703 - val_loss: 0.6798 - val_accuracy: 0.5672\n",
            "Epoch 4/10\n",
            "79/79 [==============================] - 4s 53ms/step - loss: 0.6725 - accuracy: 0.5888 - val_loss: 0.6738 - val_accuracy: 0.5822\n",
            "Epoch 5/10\n",
            "79/79 [==============================] - 5s 65ms/step - loss: 0.6659 - accuracy: 0.6015 - val_loss: 0.6681 - val_accuracy: 0.5930\n",
            "Epoch 6/10\n",
            "79/79 [==============================] - 4s 51ms/step - loss: 0.6587 - accuracy: 0.6133 - val_loss: 0.6612 - val_accuracy: 0.6028\n",
            "Epoch 7/10\n",
            "79/79 [==============================] - 4s 51ms/step - loss: 0.6510 - accuracy: 0.6270 - val_loss: 0.6556 - val_accuracy: 0.6150\n",
            "Epoch 8/10\n",
            "79/79 [==============================] - 5s 64ms/step - loss: 0.6431 - accuracy: 0.6381 - val_loss: 0.6471 - val_accuracy: 0.6260\n",
            "Epoch 9/10\n",
            "79/79 [==============================] - 5s 57ms/step - loss: 0.6346 - accuracy: 0.6507 - val_loss: 0.6395 - val_accuracy: 0.6374\n",
            "Epoch 10/10\n",
            "79/79 [==============================] - 5s 58ms/step - loss: 0.6261 - accuracy: 0.6619 - val_loss: 0.6316 - val_accuracy: 0.6440\n"
          ]
        }
      ]
    },
    {
      "cell_type": "code",
      "source": [
        "plt.plot(history.history['loss'])\n",
        "plt.plot(history.history['val_loss'])\n",
        "plt.xlabel('epoch')\n",
        "plt.ylabel('loss')\n",
        "plt.legend(['train', 'val'])\n",
        "plt.show()"
      ],
      "metadata": {
        "colab": {
          "base_uri": "https://localhost:8080/",
          "height": 449
        },
        "id": "Ttb877PZrM9Q",
        "outputId": "e99e08d2-fdec-486e-a42d-27e811d0e275"
      },
      "execution_count": null,
      "outputs": [
        {
          "output_type": "display_data",
          "data": {
            "text/plain": [
              "<Figure size 640x480 with 1 Axes>"
            ],
            "image/png": "[encoded data removed]"
          },
          "metadata": {}
        }
      ]
    },
    {
      "cell_type": "code",
      "source": [
        "print(train_seq.nbytes, train_oh.nbytes)"
      ],
      "metadata": {
        "colab": {
          "base_uri": "https://localhost:8080/"
        },
        "id": "8iljrZz4rfnH",
        "outputId": "7815a0ae-d28c-4c76-c690-9668668d5eb9"
      },
      "execution_count": null,
      "outputs": [
        {
          "output_type": "stream",
          "name": "stdout",
          "text": [
            "4000000 2000000000\n"
          ]
        }
      ]
    },
    {
      "cell_type": "markdown",
      "source": [
        "Word Embedding"
      ],
      "metadata": {
        "id": "5JWThb7VG8AT"
      }
    },
    {
      "cell_type": "code",
      "source": [
        "model2 = keras.Sequential()\n",
        "model2.add(keras.layers.Embedding(500, 16, input_length=50)) #one hot encoding 대신 word embedding 해주고 rnn에 넘겨주기\n",
        "model2.add(keras.layers.SimpleRNN(8))\n",
        "model2.add(keras.layers.Dense(1, activation='sigmoid'))"
      ],
      "metadata": {
        "id": "ZTRd9Sf_uE-_"
      },
      "execution_count": null,
      "outputs": []
    },
    {
      "cell_type": "code",
      "source": [
        "model2.summary()"
      ],
      "metadata": {
        "colab": {
          "base_uri": "https://localhost:8080/"
        },
        "id": "FMuBeeMpuGXv",
        "outputId": "bc08794f-05bb-41ed-8c53-f354cd1cbe6b"
      },
      "execution_count": null,
      "outputs": [
        {
          "output_type": "stream",
          "name": "stdout",
          "text": [
            "Model: \"sequential_1\"\n",
            "_________________________________________________________________\n",
            " Layer (type)                Output Shape              Param #   \n",
            "=================================================================\n",
            " embedding (Embedding)       (None, 50, 16)            8000      \n",
            "                                                                 \n",
            " simple_rnn_1 (SimpleRNN)    (None, 8)                 200       \n",
            "                                                                 \n",
            " dense_1 (Dense)             (None, 1)                 9         \n",
            "                                                                 \n",
            "=================================================================\n",
            "Total params: 8,209\n",
            "Trainable params: 8,209\n",
            "Non-trainable params: 0\n",
            "_________________________________________________________________\n"
          ]
        }
      ]
    },
    {
      "cell_type": "code",
      "source": [
        "rmsprop = keras.optimizers.RMSprop(learning_rate=1e-4)\n",
        "model2.compile(optimizer=rmsprop, loss='binary_crossentropy',\n",
        "              metrics=['accuracy'])\n",
        "checkpoint_cb = keras.callbacks.ModelCheckpoint('best-embedding-model.h5', save_best_only=True)\n",
        "early_stopping_cb = keras.callbacks.EarlyStopping(patience=3, restore_best_weights=True)\n",
        "history = model2.fit(train_seq, train_target, epochs=10, batch_size=256, validation_data=(val_seq, val_target), callbacks=[checkpoint_cb, early_stopping_cb])\n"
      ],
      "metadata": {
        "colab": {
          "base_uri": "https://localhost:8080/"
        },
        "id": "3MICnZgyuK3f",
        "outputId": "5cb3b158-625a-420e-c2b5-82415f2f2a5c"
      },
      "execution_count": null,
      "outputs": [
        {
          "output_type": "stream",
          "name": "stdout",
          "text": [
            "Epoch 1/10\n",
            "79/79 [==============================] - 8s 77ms/step - loss: 0.6974 - accuracy: 0.5012 - val_loss: 0.6926 - val_accuracy: 0.5200\n",
            "Epoch 2/10\n",
            "79/79 [==============================] - 5s 69ms/step - loss: 0.6942 - accuracy: 0.5125 - val_loss: 0.6914 - val_accuracy: 0.5278\n",
            "Epoch 3/10\n",
            "79/79 [==============================] - 4s 51ms/step - loss: 0.6918 - accuracy: 0.5257 - val_loss: 0.6900 - val_accuracy: 0.5340\n",
            "Epoch 4/10\n",
            "79/79 [==============================] - 4s 53ms/step - loss: 0.6895 - accuracy: 0.5357 - val_loss: 0.6885 - val_accuracy: 0.5446\n",
            "Epoch 5/10\n",
            "79/79 [==============================] - 5s 69ms/step - loss: 0.6871 - accuracy: 0.5488 - val_loss: 0.6868 - val_accuracy: 0.5522\n",
            "Epoch 6/10\n",
            "79/79 [==============================] - 4s 53ms/step - loss: 0.6845 - accuracy: 0.5617 - val_loss: 0.6847 - val_accuracy: 0.5526\n",
            "Epoch 7/10\n",
            "79/79 [==============================] - 4s 55ms/step - loss: 0.6813 - accuracy: 0.5708 - val_loss: 0.6818 - val_accuracy: 0.5596\n",
            "Epoch 8/10\n",
            "79/79 [==============================] - 5s 59ms/step - loss: 0.6777 - accuracy: 0.5752 - val_loss: 0.6790 - val_accuracy: 0.5650\n",
            "Epoch 9/10\n",
            "79/79 [==============================] - 4s 54ms/step - loss: 0.6735 - accuracy: 0.5864 - val_loss: 0.6769 - val_accuracy: 0.5716\n",
            "Epoch 10/10\n",
            "79/79 [==============================] - 5s 66ms/step - loss: 0.6692 - accuracy: 0.5914 - val_loss: 0.6749 - val_accuracy: 0.5714\n"
          ]
        }
      ]
    },
    {
      "cell_type": "code",
      "source": [
        "plt.plot(history.history['loss'])\n",
        "plt.plot(history.history['val_loss'])\n",
        "plt.xlabel('epoch')\n",
        "plt.ylabel('loss')\n",
        "plt.legend(['train', 'val'])\n",
        "plt.show()"
      ],
      "metadata": {
        "colab": {
          "base_uri": "https://localhost:8080/",
          "height": 449
        },
        "id": "Sfoly1ZkuPnA",
        "outputId": "9fec3841-8c9f-41d7-8e97-a11ea0ba6a81"
      },
      "execution_count": null,
      "outputs": [
        {
          "output_type": "display_data",
          "data": {
            "text/plain": [
              "<Figure size 640x480 with 1 Axes>"
            ],
            "image/png": "[encoded data removed]"
          },
          "metadata": {}
        }
      ]
    }
  ]
}