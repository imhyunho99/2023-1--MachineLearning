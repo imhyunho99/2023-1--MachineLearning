{
  "nbformat": 4,
  "nbformat_minor": 0,
  "metadata": {
    "colab": {
      "provenance": [],
      "authorship_tag": "ABX9TyND/Q3+C6CtzyKrlG6TUpTQ",
      "include_colab_link": true
    },
    "kernelspec": {
      "name": "python3",
      "display_name": "Python 3"
    },
    "language_info": {
      "name": "python"
    }
  },
  "cells": [
    {
      "cell_type": "markdown",
      "metadata": {
        "id": "view-in-github",
        "colab_type": "text"
      },
      "source": [
        "<a href=\"https://colab.research.google.com/github/imhyunho99/2023-1--MachineLearning/blob/main/08_SGD.ipynb\" target=\"_parent\"><img src=\"https://colab.research.google.com/assets/colab-badge.svg\" alt=\"Open In Colab\"/></a>"
      ]
    },
    {
      "cell_type": "markdown",
      "source": [
        "##이미 학습된 모델 새로운 훈련 데이터의 해결 방법\n",
        "\n",
        "\n",
        "\n",
        "*   기존 훈련 데이터에 새로운 훈련 데이터 추가\n",
        "\n",
        "훈련 양이 점차 늘어남\n",
        "\n",
        "*   훈련 데이터의 크기를 일정하게 유지\n",
        "\n",
        "기존 데이터를 삭제할때 질적으로 좋은 데이터를 삭제하게 되면 모델의 학습 능력이 크게 달라짐\n",
        "\n",
        "==> Batch Learning, OffLine Learning\n",
        "\n",
        "<br>\n",
        "\n",
        "**대안**\n",
        "\n",
        "점진적 학습(Incremental Learning=online learning)\n",
        "\n",
        "기존의 모델을 버리지 않고 새로운 데이터만 학습\n",
        "\n",
        "<br>\n",
        "Learning rate ==> 높으면 새로운 데이터 셋에 빠르게 적응하지만 그만큼 기존에 모델에서 크게 변화함\n"
      ],
      "metadata": {
        "id": "LNzys2tuiVNv"
      }
    },
    {
      "cell_type": "markdown",
      "source": [
        "##확률적 경사 하강법(Stochastic Gradiant Descent:SGD)\n",
        "\n",
        "\n",
        "훈련 데이터에서 한개의 샘플을 선택하여 가장 가파른 길로 내려가는 방식의 학습법.\n",
        "\n",
        "\n",
        "\n",
        "1.   확률적 경사 하강법\n",
        "\n",
        "한개의 샘플로 경사 하강법 수행\n",
        "2.   미니 배치 경사 하강법\n",
        "\n",
        "여러개의 샘플로 경사 하강법 수행\n",
        "3.   배치 경사 하강법 ==> offline learning \n",
        "\n",
        "전체 샘플로 경사 하강법 수행\n",
        "\n",
        "\n"
      ],
      "metadata": {
        "id": "1nk5E5U_jjeO"
      }
    },
    {
      "cell_type": "markdown",
      "source": [
        "손실 함수(Loss Func)\n",
        "\n",
        "\n",
        "비용 함수(Cost func)"
      ],
      "metadata": {
        "id": "KuRm41LllDN9"
      }
    },
    {
      "cell_type": "code",
      "execution_count": null,
      "metadata": {
        "id": "1Yql3JLEMqM4"
      },
      "outputs": [],
      "source": [
        "import pandas as pd\n",
        "fish = pd.read_csv('https://bit.ly/fish_csv')"
      ]
    },
    {
      "cell_type": "code",
      "source": [
        "fish"
      ],
      "metadata": {
        "colab": {
          "base_uri": "https://localhost:8080/",
          "height": 424
        },
        "id": "dRXBgV5Rpon7",
        "outputId": "f332e663-f9cb-4354-d412-835f62ca9b27"
      },
      "execution_count": null,
      "outputs": [
        {
          "output_type": "execute_result",
          "data": {
            "text/plain": [
              "    Species  Weight  Length  Diagonal   Height   Width\n",
              "0     Bream   242.0    25.4      30.0  11.5200  4.0200\n",
              "1     Bream   290.0    26.3      31.2  12.4800  4.3056\n",
              "2     Bream   340.0    26.5      31.1  12.3778  4.6961\n",
              "3     Bream   363.0    29.0      33.5  12.7300  4.4555\n",
              "4     Bream   430.0    29.0      34.0  12.4440  5.1340\n",
              "..      ...     ...     ...       ...      ...     ...\n",
              "154   Smelt    12.2    12.2      13.4   2.0904  1.3936\n",
              "155   Smelt    13.4    12.4      13.5   2.4300  1.2690\n",
              "156   Smelt    12.2    13.0      13.8   2.2770  1.2558\n",
              "157   Smelt    19.7    14.3      15.2   2.8728  2.0672\n",
              "158   Smelt    19.9    15.0      16.2   2.9322  1.8792\n",
              "\n",
              "[159 rows x 6 columns]"
            ],
            "text/html": [
              "\n",
              "  <div id=\"df-50aa414c-15f8-4075-a38a-c0b492f3cb84\">\n",
              "    <div class=\"colab-df-container\">\n",
              "      <div>\n",
              "<style scoped>\n",
              "    .dataframe tbody tr th:only-of-type {\n",
              "        vertical-align: middle;\n",
              "    }\n",
              "\n",
              "    .dataframe tbody tr th {\n",
              "        vertical-align: top;\n",
              "    }\n",
              "\n",
              "    .dataframe thead th {\n",
              "        text-align: right;\n",
              "    }\n",
              "</style>\n",
              "<table border=\"1\" class=\"dataframe\">\n",
              "  <thead>\n",
              "    <tr style=\"text-align: right;\">\n",
              "      <th></th>\n",
              "      <th>Species</th>\n",
              "      <th>Weight</th>\n",
              "      <th>Length</th>\n",
              "      <th>Diagonal</th>\n",
              "      <th>Height</th>\n",
              "      <th>Width</th>\n",
              "    </tr>\n",
              "  </thead>\n",
              "  <tbody>\n",
              "    <tr>\n",
              "      <th>0</th>\n",
              "      <td>Bream</td>\n",
              "      <td>242.0</td>\n",
              "      <td>25.4</td>\n",
              "      <td>30.0</td>\n",
              "      <td>11.5200</td>\n",
              "      <td>4.0200</td>\n",
              "    </tr>\n",
              "    <tr>\n",
              "      <th>1</th>\n",
              "      <td>Bream</td>\n",
              "      <td>290.0</td>\n",
              "      <td>26.3</td>\n",
              "      <td>31.2</td>\n",
              "      <td>12.4800</td>\n",
              "      <td>4.3056</td>\n",
              "    </tr>\n",
              "    <tr>\n",
              "      <th>2</th>\n",
              "      <td>Bream</td>\n",
              "      <td>340.0</td>\n",
              "      <td>26.5</td>\n",
              "      <td>31.1</td>\n",
              "      <td>12.3778</td>\n",
              "      <td>4.6961</td>\n",
              "    </tr>\n",
              "    <tr>\n",
              "      <th>3</th>\n",
              "      <td>Bream</td>\n",
              "      <td>363.0</td>\n",
              "      <td>29.0</td>\n",
              "      <td>33.5</td>\n",
              "      <td>12.7300</td>\n",
              "      <td>4.4555</td>\n",
              "    </tr>\n",
              "    <tr>\n",
              "      <th>4</th>\n",
              "      <td>Bream</td>\n",
              "      <td>430.0</td>\n",
              "      <td>29.0</td>\n",
              "      <td>34.0</td>\n",
              "      <td>12.4440</td>\n",
              "      <td>5.1340</td>\n",
              "    </tr>\n",
              "    <tr>\n",
              "      <th>...</th>\n",
              "      <td>...</td>\n",
              "      <td>...</td>\n",
              "      <td>...</td>\n",
              "      <td>...</td>\n",
              "      <td>...</td>\n",
              "      <td>...</td>\n",
              "    </tr>\n",
              "    <tr>\n",
              "      <th>154</th>\n",
              "      <td>Smelt</td>\n",
              "      <td>12.2</td>\n",
              "      <td>12.2</td>\n",
              "      <td>13.4</td>\n",
              "      <td>2.0904</td>\n",
              "      <td>1.3936</td>\n",
              "    </tr>\n",
              "    <tr>\n",
              "      <th>155</th>\n",
              "      <td>Smelt</td>\n",
              "      <td>13.4</td>\n",
              "      <td>12.4</td>\n",
              "      <td>13.5</td>\n",
              "      <td>2.4300</td>\n",
              "      <td>1.2690</td>\n",
              "    </tr>\n",
              "    <tr>\n",
              "      <th>156</th>\n",
              "      <td>Smelt</td>\n",
              "      <td>12.2</td>\n",
              "      <td>13.0</td>\n",
              "      <td>13.8</td>\n",
              "      <td>2.2770</td>\n",
              "      <td>1.2558</td>\n",
              "    </tr>\n",
              "    <tr>\n",
              "      <th>157</th>\n",
              "      <td>Smelt</td>\n",
              "      <td>19.7</td>\n",
              "      <td>14.3</td>\n",
              "      <td>15.2</td>\n",
              "      <td>2.8728</td>\n",
              "      <td>2.0672</td>\n",
              "    </tr>\n",
              "    <tr>\n",
              "      <th>158</th>\n",
              "      <td>Smelt</td>\n",
              "      <td>19.9</td>\n",
              "      <td>15.0</td>\n",
              "      <td>16.2</td>\n",
              "      <td>2.9322</td>\n",
              "      <td>1.8792</td>\n",
              "    </tr>\n",
              "  </tbody>\n",
              "</table>\n",
              "<p>159 rows × 6 columns</p>\n",
              "</div>\n",
              "      <button class=\"colab-df-convert\" onclick=\"convertToInteractive('df-50aa414c-15f8-4075-a38a-c0b492f3cb84')\"\n",
              "              title=\"Convert this dataframe to an interactive table.\"\n",
              "              style=\"display:none;\">\n",
              "        \n",
              "  <svg xmlns=\"http://www.w3.org/2000/svg\" height=\"24px\"viewBox=\"0 0 24 24\"\n",
              "       width=\"24px\">\n",
              "    <path d=\"M0 0h24v24H0V0z\" fill=\"none\"/>\n",
              "    <path d=\"M18.56 5.44l.94 2.06.94-2.06 2.06-.94-2.06-.94-.94-2.06-.94 2.06-2.06.94zm-11 1L8.5 8.5l.94-2.06 2.06-.94-2.06-.94L8.5 2.5l-.94 2.06-2.06.94zm10 10l.94 2.06.94-2.06 2.06-.94-2.06-.94-.94-2.06-.94 2.06-2.06.94z\"/><path d=\"M17.41 7.96l-1.37-1.37c-.4-.4-.92-.59-1.43-.59-.52 0-1.04.2-1.43.59L10.3 9.45l-7.72 7.72c-.78.78-.78 2.05 0 2.83L4 21.41c.39.39.9.59 1.41.59.51 0 1.02-.2 1.41-.59l7.78-7.78 2.81-2.81c.8-.78.8-2.07 0-2.86zM5.41 20L4 18.59l7.72-7.72 1.47 1.35L5.41 20z\"/>\n",
              "  </svg>\n",
              "      </button>\n",
              "      \n",
              "  <style>\n",
              "    .colab-df-container {\n",
              "      display:flex;\n",
              "      flex-wrap:wrap;\n",
              "      gap: 12px;\n",
              "    }\n",
              "\n",
              "    .colab-df-convert {\n",
              "      background-color: #E8F0FE;\n",
              "      border: none;\n",
              "      border-radius: 50%;\n",
              "      cursor: pointer;\n",
              "      display: none;\n",
              "      fill: #1967D2;\n",
              "      height: 32px;\n",
              "      padding: 0 0 0 0;\n",
              "      width: 32px;\n",
              "    }\n",
              "\n",
              "    .colab-df-convert:hover {\n",
              "      background-color: #E2EBFA;\n",
              "      box-shadow: 0px 1px 2px rgba(60, 64, 67, 0.3), 0px 1px 3px 1px rgba(60, 64, 67, 0.15);\n",
              "      fill: #174EA6;\n",
              "    }\n",
              "\n",
              "    [theme=dark] .colab-df-convert {\n",
              "      background-color: #3B4455;\n",
              "      fill: #D2E3FC;\n",
              "    }\n",
              "\n",
              "    [theme=dark] .colab-df-convert:hover {\n",
              "      background-color: #434B5C;\n",
              "      box-shadow: 0px 1px 3px 1px rgba(0, 0, 0, 0.15);\n",
              "      filter: drop-shadow(0px 1px 2px rgba(0, 0, 0, 0.3));\n",
              "      fill: #FFFFFF;\n",
              "    }\n",
              "  </style>\n",
              "\n",
              "      <script>\n",
              "        const buttonEl =\n",
              "          document.querySelector('#df-50aa414c-15f8-4075-a38a-c0b492f3cb84 button.colab-df-convert');\n",
              "        buttonEl.style.display =\n",
              "          google.colab.kernel.accessAllowed ? 'block' : 'none';\n",
              "\n",
              "        async function convertToInteractive(key) {\n",
              "          const element = document.querySelector('#df-50aa414c-15f8-4075-a38a-c0b492f3cb84');\n",
              "          const dataTable =\n",
              "            await google.colab.kernel.invokeFunction('convertToInteractive',\n",
              "                                                     [key], {});\n",
              "          if (!dataTable) return;\n",
              "\n",
              "          const docLinkHtml = 'Like what you see? Visit the ' +\n",
              "            '<a target=\"_blank\" href=https://colab.research.google.com/notebooks/data_table.ipynb>data table notebook</a>'\n",
              "            + ' to learn more about interactive tables.';\n",
              "          element.innerHTML = '';\n",
              "          dataTable['output_type'] = 'display_data';\n",
              "          await google.colab.output.renderOutput(dataTable, element);\n",
              "          const docLink = document.createElement('div');\n",
              "          docLink.innerHTML = docLinkHtml;\n",
              "          element.appendChild(docLink);\n",
              "        }\n",
              "      </script>\n",
              "    </div>\n",
              "  </div>\n",
              "  "
            ]
          },
          "metadata": {},
          "execution_count": 33
        }
      ]
    },
    {
      "cell_type": "code",
      "source": [
        "fish_input = fish[['Weight', 'Length', 'Diagonal', 'Height', 'Width']].to_numpy()\n",
        "fish_target = fish['Species'].to_numpy()"
      ],
      "metadata": {
        "id": "cripI7OqRZ3q"
      },
      "execution_count": null,
      "outputs": []
    },
    {
      "cell_type": "code",
      "source": [
        "from sklearn.model_selection import train_test_split\n",
        "train_input, test_input, train_target, test_target = train_test_split(fish_input, fish_target, random_state=42)"
      ],
      "metadata": {
        "id": "6_Vph_LZRbc9"
      },
      "execution_count": null,
      "outputs": []
    },
    {
      "cell_type": "code",
      "source": [
        "from sklearn.preprocessing import StandardScaler\n",
        "ss = StandardScaler()\n",
        "ss.fit(train_input)\n",
        "train_scaled = ss.transform(train_input)\n",
        "test_scaled = ss.transform(test_input) #평균과 표준편차 맞춰주기(정규화)"
      ],
      "metadata": {
        "id": "_io3H378Rd8D"
      },
      "execution_count": null,
      "outputs": []
    },
    {
      "cell_type": "code",
      "source": [
        "from sklearn.linear_model import SGDClassifier\n"
      ],
      "metadata": {
        "id": "AwLgMoUyRgc2"
      },
      "execution_count": null,
      "outputs": []
    },
    {
      "cell_type": "code",
      "source": [
        "sc = SGDClassifier(loss='log_loss', max_iter=10, random_state=42)#이진 CrossEnt 사용 예정으로 log 사용, max_iter = 최대 Epoch, log==>log_loss로 변경 예정\n",
        "sc.fit(train_scaled, train_target)\n",
        "print(sc.score(train_scaled, train_target))\n",
        "print(sc.score(test_scaled, test_target))\n",
        "#ConvergenceWarning : converge(수렴), 모델이 수렴하기 전에 Epoch를 다 돌았다. max_iter 34쓰면 안나옴옴"
      ],
      "metadata": {
        "id": "KZsxiMeCRib9",
        "colab": {
          "base_uri": "https://localhost:8080/"
        },
        "outputId": "df334e73-b1f9-433c-c59f-401ac5b2437d"
      },
      "execution_count": null,
      "outputs": [
        {
          "output_type": "stream",
          "name": "stdout",
          "text": [
            "0.773109243697479\n",
            "0.775\n"
          ]
        },
        {
          "output_type": "stream",
          "name": "stderr",
          "text": [
            "/usr/local/lib/python3.9/dist-packages/sklearn/linear_model/_stochastic_gradient.py:702: ConvergenceWarning: Maximum number of iteration reached before convergence. Consider increasing max_iter to improve the fit.\n",
            "  warnings.warn(\n"
          ]
        }
      ]
    },
    {
      "cell_type": "code",
      "source": [
        "train_scaled.shape"
      ],
      "metadata": {
        "colab": {
          "base_uri": "https://localhost:8080/"
        },
        "id": "OJe4zThtqIQd",
        "outputId": "18a146c0-b6ec-4f12-e854-cb86a9ec9720"
      },
      "execution_count": null,
      "outputs": [
        {
          "output_type": "execute_result",
          "data": {
            "text/plain": [
              "(119, 5)"
            ]
          },
          "metadata": {},
          "execution_count": 48
        }
      ]
    },
    {
      "cell_type": "code",
      "source": [
        "sc.partial_fit(train_scaled, train_target)\n",
        "print(sc.score(train_scaled, train_target))\n",
        "print(sc.score(test_scaled, test_target))"
      ],
      "metadata": {
        "id": "7rynDp6fRj-T",
        "colab": {
          "base_uri": "https://localhost:8080/"
        },
        "outputId": "c575cc94-d314-4e9a-ddc8-6072ddb07f8b"
      },
      "execution_count": null,
      "outputs": [
        {
          "output_type": "stream",
          "name": "stdout",
          "text": [
            "0.8151260504201681\n",
            "0.85\n"
          ]
        }
      ]
    },
    {
      "cell_type": "code",
      "source": [
        "sc.partial_fit(train_scaled, train_target)#11\n",
        "print(sc.score(train_scaled, train_target))\n",
        "print(sc.score(test_scaled, test_target))"
      ],
      "metadata": {
        "colab": {
          "base_uri": "https://localhost:8080/"
        },
        "id": "vjV7K-vorxjF",
        "outputId": "ceef2e87-8990-42ec-e697-e05e4d6bb874"
      },
      "execution_count": null,
      "outputs": [
        {
          "output_type": "stream",
          "name": "stdout",
          "text": [
            "0.9663865546218487\n",
            "0.925\n"
          ]
        }
      ]
    },
    {
      "cell_type": "markdown",
      "source": [
        "Epoch와 과대/과소 적합"
      ],
      "metadata": {
        "id": "FKibvyhWsaXV"
      }
    },
    {
      "cell_type": "code",
      "source": [
        "import numpy as np\n",
        "sc = SGDClassifier(loss='log', random_state=42)\n",
        "train_score = []\n",
        "test_score = []\n",
        "classes = np.unique(train_target)"
      ],
      "metadata": {
        "id": "iUC5pqyhRlN0"
      },
      "execution_count": null,
      "outputs": []
    },
    {
      "cell_type": "code",
      "source": [
        "train_target"
      ],
      "metadata": {
        "colab": {
          "base_uri": "https://localhost:8080/"
        },
        "id": "TjQD3PoWs8eY",
        "outputId": "4b6f7cbe-8b2c-404f-8b1d-132a5602f1ee"
      },
      "execution_count": null,
      "outputs": [
        {
          "output_type": "execute_result",
          "data": {
            "text/plain": [
              "array(['Bream', 'Pike', 'Smelt', 'Perch', 'Parkki', 'Roach', 'Perch',\n",
              "       'Bream', 'Perch', 'Perch', 'Perch', 'Bream', 'Perch', 'Parkki',\n",
              "       'Perch', 'Bream', 'Smelt', 'Perch', 'Roach', 'Bream', 'Pike',\n",
              "       'Bream', 'Pike', 'Perch', 'Parkki', 'Bream', 'Perch', 'Pike',\n",
              "       'Bream', 'Perch', 'Parkki', 'Roach', 'Perch', 'Bream', 'Roach',\n",
              "       'Perch', 'Bream', 'Bream', 'Perch', 'Perch', 'Roach', 'Pike',\n",
              "       'Perch', 'Smelt', 'Pike', 'Roach', 'Perch', 'Parkki', 'Perch',\n",
              "       'Bream', 'Perch', 'Smelt', 'Perch', 'Parkki', 'Smelt', 'Perch',\n",
              "       'Perch', 'Roach', 'Bream', 'Perch', 'Perch', 'Roach', 'Roach',\n",
              "       'Perch', 'Perch', 'Bream', 'Roach', 'Bream', 'Roach', 'Parkki',\n",
              "       'Perch', 'Perch', 'Perch', 'Perch', 'Pike', 'Pike', 'Perch',\n",
              "       'Bream', 'Perch', 'Bream', 'Whitefish', 'Pike', 'Bream', 'Bream',\n",
              "       'Roach', 'Perch', 'Pike', 'Bream', 'Pike', 'Parkki', 'Roach',\n",
              "       'Perch', 'Roach', 'Smelt', 'Whitefish', 'Roach', 'Perch', 'Bream',\n",
              "       'Whitefish', 'Smelt', 'Pike', 'Roach', 'Smelt', 'Bream', 'Roach',\n",
              "       'Pike', 'Perch', 'Perch', 'Perch', 'Perch', 'Perch', 'Perch',\n",
              "       'Smelt', 'Bream', 'Parkki', 'Perch', 'Bream', 'Perch', 'Perch'],\n",
              "      dtype=object)"
            ]
          },
          "metadata": {},
          "execution_count": 62
        }
      ]
    },
    {
      "cell_type": "code",
      "source": [
        "for epoch in range(0, 300):\n",
        "    sc.partial_fit(train_scaled, train_target, classes=classes)\n",
        "    train_score.append(sc.score(train_scaled, train_target))\n",
        "    test_score.append(sc.score(test_scaled, test_target))\n",
        "    print(\"{}{:3f}{:3f}\".format(epoch+1,train_score[epoch],test_score[epoch]))"
      ],
      "metadata": {
        "colab": {
          "base_uri": "https://localhost:8080/"
        },
        "id": "2ujIsNcHRmzr",
        "outputId": "337d5f8f-3250-44d2-a052-5fbf7bdf88b8"
      },
      "execution_count": null,
      "outputs": [
        {
          "output_type": "stream",
          "name": "stdout",
          "text": [
            "10.5294120.650000\n",
            "20.6218490.550000\n",
            "30.6386550.575000\n",
            "40.7310920.700000\n",
            "50.7226890.700000\n",
            "60.7310920.700000\n",
            "70.7647060.725000\n",
            "80.7310920.775000\n",
            "90.8151260.825000\n",
            "100.7478990.700000\n",
            "110.8319330.825000\n",
            "120.8151260.800000\n",
            "130.8571430.850000\n",
            "140.8571430.900000\n",
            "150.8403360.850000\n",
            "160.8655460.900000\n",
            "170.8655460.900000\n",
            "180.8655460.900000\n",
            "190.8739500.900000\n",
            "200.8739500.900000\n",
            "210.8739500.900000\n",
            "220.8655460.900000\n",
            "230.8655460.900000\n",
            "240.8823530.900000\n",
            "250.8655460.900000\n",
            "260.8823530.900000\n",
            "270.8823530.900000\n",
            "280.8823530.900000\n",
            "290.8907560.900000\n",
            "300.8907560.900000\n",
            "310.8907560.900000\n",
            "320.8907560.900000\n",
            "330.8823530.900000\n",
            "340.8823530.900000\n",
            "350.8907560.900000\n",
            "360.9075630.900000\n",
            "370.9075630.900000\n",
            "380.8991600.900000\n",
            "390.9075630.900000\n",
            "400.8991600.900000\n",
            "410.8991600.900000\n",
            "420.9075630.900000\n",
            "430.9075630.900000\n",
            "440.9075630.900000\n",
            "450.9159660.900000\n",
            "460.9159660.900000\n",
            "470.9243700.900000\n",
            "480.9243700.900000\n",
            "490.9243700.900000\n",
            "500.9243700.900000\n",
            "510.9243700.900000\n",
            "520.9243700.900000\n",
            "530.9243700.900000\n",
            "540.9243700.900000\n",
            "550.9327730.900000\n",
            "560.9327730.900000\n",
            "570.9327730.900000\n",
            "580.9327730.900000\n",
            "590.9411760.900000\n",
            "600.9411760.900000\n",
            "610.9411760.900000\n",
            "620.9411760.900000\n",
            "630.9495800.900000\n",
            "640.9495800.900000\n",
            "650.9495800.900000\n",
            "660.9495800.900000\n",
            "670.9495800.925000\n",
            "680.9495800.925000\n",
            "690.9495800.925000\n",
            "700.9495800.925000\n",
            "710.9411760.925000\n",
            "720.9411760.925000\n",
            "730.9411760.925000\n",
            "740.9411760.925000\n",
            "750.9411760.925000\n",
            "760.9411760.925000\n",
            "770.9411760.925000\n",
            "780.9411760.925000\n",
            "790.9411760.925000\n",
            "800.9411760.925000\n",
            "810.9411760.925000\n",
            "820.9411760.925000\n",
            "830.9411760.925000\n",
            "840.9411760.925000\n",
            "850.9411760.925000\n",
            "860.9411760.925000\n",
            "870.9411760.925000\n",
            "880.9411760.925000\n",
            "890.9411760.925000\n",
            "900.9411760.925000\n",
            "910.9411760.925000\n",
            "920.9411760.925000\n",
            "930.9411760.925000\n",
            "940.9411760.925000\n",
            "950.9411760.925000\n",
            "960.9411760.925000\n",
            "970.9411760.925000\n",
            "980.9411760.925000\n",
            "990.9411760.925000\n",
            "1000.9411760.925000\n",
            "1010.9411760.925000\n",
            "1020.9411760.925000\n",
            "1030.9411760.925000\n",
            "1040.9411760.925000\n",
            "1050.9411760.925000\n",
            "1060.9411760.925000\n",
            "1070.9411760.925000\n",
            "1080.9495800.925000\n",
            "1090.9495800.925000\n",
            "1100.9495800.925000\n",
            "1110.9495800.925000\n",
            "1120.9495800.925000\n",
            "1130.9495800.925000\n",
            "1140.9495800.925000\n",
            "1150.9495800.925000\n",
            "1160.9495800.925000\n",
            "1170.9579830.925000\n",
            "1180.9579830.925000\n",
            "1190.9579830.925000\n",
            "1200.9579830.925000\n",
            "1210.9579830.925000\n",
            "1220.9579830.925000\n",
            "1230.9579830.925000\n",
            "1240.9579830.925000\n",
            "1250.9579830.925000\n",
            "1260.9579830.925000\n",
            "1270.9579830.925000\n",
            "1280.9579830.925000\n",
            "1290.9579830.925000\n",
            "1300.9579830.925000\n",
            "1310.9579830.925000\n",
            "1320.9579830.925000\n",
            "1330.9579830.925000\n",
            "1340.9579830.925000\n",
            "1350.9579830.925000\n",
            "1360.9579830.925000\n",
            "1370.9579830.925000\n",
            "1380.9579830.925000\n",
            "1390.9579830.925000\n",
            "1400.9579830.925000\n",
            "1410.9579830.925000\n",
            "1420.9579830.925000\n",
            "1430.9579830.925000\n",
            "1440.9579830.925000\n",
            "1450.9579830.925000\n",
            "1460.9579830.925000\n",
            "1470.9579830.925000\n",
            "1480.9579830.925000\n",
            "1490.9579830.925000\n",
            "1500.9579830.925000\n",
            "1510.9579830.925000\n",
            "1520.9579830.925000\n",
            "1530.9579830.925000\n",
            "1540.9579830.925000\n",
            "1550.9579830.925000\n",
            "1560.9579830.925000\n",
            "1570.9579830.925000\n",
            "1580.9579830.925000\n",
            "1590.9579830.925000\n",
            "1600.9579830.925000\n",
            "1610.9579830.925000\n",
            "1620.9579830.925000\n",
            "1630.9579830.925000\n",
            "1640.9579830.925000\n",
            "1650.9579830.925000\n",
            "1660.9579830.925000\n",
            "1670.9579830.925000\n",
            "1680.9579830.925000\n",
            "1690.9579830.925000\n",
            "1700.9579830.925000\n",
            "1710.9579830.925000\n",
            "1720.9579830.925000\n",
            "1730.9579830.925000\n",
            "1740.9579830.925000\n",
            "1750.9579830.925000\n",
            "1760.9579830.925000\n",
            "1770.9579830.925000\n",
            "1780.9579830.925000\n",
            "1790.9579830.925000\n",
            "1800.9579830.925000\n",
            "1810.9579830.925000\n",
            "1820.9579830.925000\n",
            "1830.9579830.925000\n",
            "1840.9579830.925000\n",
            "1850.9579830.925000\n",
            "1860.9579830.925000\n",
            "1870.9579830.925000\n",
            "1880.9579830.925000\n",
            "1890.9579830.925000\n",
            "1900.9579830.925000\n",
            "1910.9579830.925000\n",
            "1920.9579830.925000\n",
            "1930.9579830.925000\n",
            "1940.9579830.925000\n",
            "1950.9579830.925000\n",
            "1960.9579830.925000\n",
            "1970.9579830.925000\n",
            "1980.9579830.925000\n",
            "1990.9579830.925000\n",
            "2000.9579830.925000\n",
            "2010.9579830.925000\n",
            "2020.9579830.925000\n",
            "2030.9579830.925000\n",
            "2040.9579830.925000\n",
            "2050.9579830.925000\n",
            "2060.9579830.925000\n",
            "2070.9579830.925000\n",
            "2080.9579830.925000\n",
            "2090.9579830.925000\n",
            "2100.9579830.925000\n",
            "2110.9579830.925000\n",
            "2120.9579830.925000\n",
            "2130.9579830.925000\n",
            "2140.9579830.925000\n",
            "2150.9579830.925000\n",
            "2160.9579830.925000\n",
            "2170.9579830.925000\n",
            "2180.9579830.925000\n",
            "2190.9579830.925000\n",
            "2200.9579830.925000\n",
            "2210.9579830.925000\n",
            "2220.9579830.925000\n",
            "2230.9579830.925000\n",
            "2240.9579830.925000\n",
            "2250.9579830.925000\n",
            "2260.9579830.925000\n",
            "2270.9579830.925000\n",
            "2280.9579830.925000\n",
            "2290.9579830.925000\n",
            "2300.9579830.925000\n",
            "2310.9579830.925000\n",
            "2320.9579830.925000\n",
            "2330.9579830.925000\n",
            "2340.9579830.925000\n",
            "2350.9579830.925000\n",
            "2360.9579830.925000\n",
            "2370.9579830.925000\n",
            "2380.9579830.925000\n",
            "2390.9579830.925000\n",
            "2400.9579830.925000\n",
            "2410.9579830.925000\n",
            "2420.9579830.925000\n",
            "2430.9579830.925000\n",
            "2440.9579830.925000\n",
            "2450.9579830.925000\n",
            "2460.9579830.925000\n",
            "2470.9579830.925000\n",
            "2480.9579830.925000\n",
            "2490.9579830.925000\n",
            "2500.9579830.925000\n",
            "2510.9579830.925000\n",
            "2520.9579830.925000\n",
            "2530.9579830.925000\n",
            "2540.9579830.925000\n",
            "2550.9579830.925000\n",
            "2560.9579830.925000\n",
            "2570.9579830.925000\n",
            "2580.9579830.925000\n",
            "2590.9579830.925000\n",
            "2600.9579830.925000\n",
            "2610.9579830.925000\n",
            "2620.9579830.925000\n",
            "2630.9579830.925000\n",
            "2640.9579830.925000\n",
            "2650.9579830.925000\n",
            "2660.9579830.925000\n",
            "2670.9579830.925000\n",
            "2680.9579830.925000\n",
            "2690.9579830.925000\n",
            "2700.9579830.925000\n",
            "2710.9663870.925000\n",
            "2720.9663870.925000\n",
            "2730.9663870.925000\n",
            "2740.9663870.925000\n",
            "2750.9663870.925000\n",
            "2760.9663870.925000\n",
            "2770.9663870.925000\n",
            "2780.9663870.925000\n",
            "2790.9663870.925000\n",
            "2800.9663870.925000\n",
            "2810.9663870.925000\n",
            "2820.9663870.925000\n",
            "2830.9663870.925000\n",
            "2840.9663870.925000\n",
            "2850.9663870.925000\n",
            "2860.9663870.925000\n",
            "2870.9663870.925000\n",
            "2880.9663870.925000\n",
            "2890.9663870.925000\n",
            "2900.9663870.925000\n",
            "2910.9663870.925000\n",
            "2920.9663870.925000\n",
            "2930.9663870.925000\n",
            "2940.9663870.925000\n",
            "2950.9663870.925000\n",
            "2960.9663870.925000\n",
            "2970.9663870.925000\n",
            "2980.9663870.925000\n",
            "2990.9663870.925000\n",
            "3000.9663870.925000\n"
          ]
        }
      ]
    },
    {
      "cell_type": "code",
      "source": [
        "import matplotlib.pyplot as plt\n",
        "plt.plot(train_score)\n",
        "plt.plot(test_score)\n",
        "plt.xlabel('epoch')\n",
        "plt.ylabel('accuracy')\n",
        "plt.show()"
      ],
      "metadata": {
        "colab": {
          "base_uri": "https://localhost:8080/",
          "height": 449
        },
        "id": "0JgarkewRoy0",
        "outputId": "f4a6da27-f65f-422f-d3ab-d3b71a2be453"
      },
      "execution_count": null,
      "outputs": [
        {
          "output_type": "display_data",
          "data": {
            "text/plain": [
              "<Figure size 640x480 with 1 Axes>"
            ],
            "image/png": "[encoded data removed]"
          },
          "metadata": {}
        }
      ]
    },
    {
      "cell_type": "code",
      "source": [
        "sc = SGDClassifier(loss='hinge', max_iter=100, tol=None, random_state=42)#loss: log=>hinge Support Vector Machine\n",
        "sc.fit(train_scaled, train_target)\n",
        "print(sc.score(train_scaled, train_target))\n",
        "print(sc.score(test_scaled, test_target))"
      ],
      "metadata": {
        "colab": {
          "base_uri": "https://localhost:8080/"
        },
        "id": "ro5vcvqlRrbt",
        "outputId": "58bb337c-894e-4b3c-829a-78275da8fb96"
      },
      "execution_count": null,
      "outputs": [
        {
          "output_type": "stream",
          "name": "stdout",
          "text": [
            "0.9495798319327731\n",
            "0.925\n"
          ]
        }
      ]
    },
    {
      "cell_type": "code",
      "source": [
        "sc = SGDClassifier(loss='log_loss', max_iter=100, tol=None, random_state=42)#tol:none ==> no early stopping\n",
        "sc.fit(train_scaled, train_target)\n",
        "print(sc.score(train_scaled, train_target))\n",
        "print(sc.score(test_scaled, test_target))"
      ],
      "metadata": {
        "colab": {
          "base_uri": "https://localhost:8080/"
        },
        "id": "K9Ig5yw5u5f5",
        "outputId": "e6579548-be6d-40d3-91ab-d17c144bac85"
      },
      "execution_count": null,
      "outputs": [
        {
          "output_type": "stream",
          "name": "stdout",
          "text": [
            "0.957983193277311\n",
            "0.925\n"
          ]
        }
      ]
    }
  ]
}